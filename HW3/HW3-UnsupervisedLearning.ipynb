{
 "cells": [
  {
   "cell_type": "code",
   "execution_count": 2,
   "id": "6b10ff4e",
   "metadata": {},
   "outputs": [
    {
     "data": {
      "text/html": [
       "<style>.container { width:90% !important; }</style>"
      ],
      "text/plain": [
       "<IPython.core.display.HTML object>"
      ]
     },
     "metadata": {},
     "output_type": "display_data"
    }
   ],
   "source": [
    "# import packages\n",
    "import sys\n",
    "\n",
    "import numpy as np\n",
    "import numpy.ma as ma\n",
    "import netCDF4 as nc\n",
    "import matplotlib as mpl\n",
    "import matplotlib.pyplot as plt\n",
    "\n",
    "import matplotlib.gridspec as gridspec\n",
    "import cartopy.crs as ccrs\n",
    "from cartopy.mpl.ticker import LongitudeFormatter, LatitudeFormatter\n",
    "\n",
    "import sklearn\n",
    "from sklearn.preprocessing import StandardScaler\n",
    "from sklearn.model_selection import train_test_split\n",
    "\n",
    "import tensorflow as tf\n",
    "from tensorflow.keras import Model\n",
    "from tensorflow.keras.layers import Dense, Input, Dropout, Softmax \n",
    "import tensorflow.keras as keras\n",
    "import tensorflow.keras.layers as layers\n",
    "\n",
    "import warnings\n",
    "warnings.filterwarnings('ignore')\n",
    "from IPython.display import display, HTML\n",
    "display(HTML(\"<style>.container { width:90% !important; }</style>\"))"
   ]
  },
  {
   "cell_type": "code",
   "execution_count": 3,
   "id": "16fabe24",
   "metadata": {},
   "outputs": [],
   "source": [
    "# setting up figure parameters\n",
    "mpl.rcParams['figure.dpi'] = 150\n",
    "mpl.rcParams['axes.labelsize'] = 12\n",
    "mpl.rcParams['axes.titlesize'] = 12\n",
    "mpl.rcParams['xtick.labelsize'] = 10\n",
    "mpl.rcParams['ytick.labelsize'] = 10\n",
    "plt.rcParams['figure.figsize'] = (15.0/2, 20.0/2)"
   ]
  },
  {
   "cell_type": "markdown",
   "id": "f0e28092",
   "metadata": {},
   "source": [
    "# Data preparation"
   ]
  },
  {
   "cell_type": "code",
   "execution_count": 4,
   "id": "37ea48a2",
   "metadata": {},
   "outputs": [],
   "source": [
    "# read in data\n",
    "ORAp_t = '../data/sosstsst_control_regrid_monthly_3D_195801-201412.nc'\n",
    "ORAp_h = '../data/sossheig_control_regrid_monthly_3D_195801-201412.nc'\n",
    "ORAp_s = '../data/sosaline_control_regrid_monthly_3D_195801-201412.nc'\n",
    "ORAp_m = '../data/somxl030_control_regrid_monthly_3D_195801-201412.nc'\n",
    "\n",
    "ORA_SST = nc.Dataset(ORAp_t).variables['sst'][:]\n",
    "ORA_SSH = nc.Dataset(ORAp_h).variables['ssh'][:]\n",
    "ORA_SSS = nc.Dataset(ORAp_s).variables['sss'][:]\n",
    "ORA_MLD = nc.Dataset(ORAp_m).variables['mxl'][:]\n",
    "\n",
    "monthofYear = np.arange(1, np.shape(ORA_SST)[0]+1)\n",
    " \n",
    "lat = nc.Dataset(ORAp_t).variables['lat'][:] #all nc files are regridded to same latlon values\n",
    "lon = nc.Dataset(ORAp_t).variables['lon'][:]"
   ]
  },
  {
   "cell_type": "code",
   "execution_count": 15,
   "id": "4689917e",
   "metadata": {},
   "outputs": [],
   "source": [
    "# calculate climatology for every grid\n",
    "OSST_c = np.nanmean(np.array(ORA_SST).reshape((int(ORA_SST.shape[0]/12), 12, len(lat), len(lon))), axis=0)\n",
    "OSSH_c = np.nanmean(np.array(ORA_SSH).reshape((int(ORA_SSH.shape[0]/12), 12, len(lat), len(lon))), axis=0)\n",
    "OSSS_c = np.nanmean(np.array(ORA_SSS).reshape((int(ORA_SSS.shape[0]/12), 12, len(lat), len(lon))), axis=0)\n",
    "OMLD_c = np.nanmean(np.array(ORA_MLD).reshape((int(ORA_MLD.shape[0]/12), 12, len(lat), len(lon))), axis=0)\n",
    "OSST_cf = np.tile(OSST_c, (int(ORA_SST.shape[0]/12),1,1))\n",
    "OSSH_cf = np.tile(OSSH_c, (int(ORA_SSH.shape[0]/12),1,1))\n",
    "OSSS_cf = np.tile(OSSS_c, (int(ORA_SSS.shape[0]/12),1,1))\n",
    "OMLD_cf = np.tile(OMLD_c, (int(ORA_MLD.shape[0]/12),1,1))\n",
    "\n",
    "# remove climatology (just for predictors)\n",
    "OSST_a = ORA_SST - OSST_cf\n",
    "OSSH_a = ORA_SSH - OSSH_cf\n",
    "OSSS_a = ORA_SSS - OSSS_cf"
   ]
  },
  {
   "cell_type": "code",
   "execution_count": 21,
   "id": "7173f411",
   "metadata": {},
   "outputs": [],
   "source": [
    "# predictors and predictand\n",
    "X = np.empty((OSST_a.shape[0], OSST_a.shape[1], OSST_a.shape[2], 6))\n",
    "X[:,:,:,:] = np.nan\n",
    "\n",
    "X[:,:,:,0] = OSST_cf\n",
    "X[:,:,:,1] = OSSH_cf\n",
    "X[:,:,:,2] = OSSS_cf\n",
    "X[:,:,:,3] = OSST_a\n",
    "X[:,:,:,4] = OSSH_a\n",
    "X[:,:,:,5] = OSSS_a\n",
    "# X[:,:,:,6] = monthofYear   # leave monthofyear out before dimension reduction\n",
    "\n",
    "y = np.copy(ORA_MLD)\n",
    "\n",
    "label_names = ['MLD']\n",
    "feature_list = ['month of year', 'SST - climatology', 'SSH - climatology', 'SSS - climatology', 'SST - anomaly', 'SSH - anomaly', 'SSS - anomaly']"
   ]
  },
  {
   "cell_type": "markdown",
   "id": "05e2abe4",
   "metadata": {},
   "source": [
    "# Unsupervised learning: PCA"
   ]
  },
  {
   "cell_type": "code",
   "execution_count": 24,
   "id": "fb72df49",
   "metadata": {},
   "outputs": [],
   "source": [
    "# standardize X and Y\n",
    "standardize_input = lambda dat, x, s: (dat - x) / s\n",
    "\n",
    "# Calculate mean and standard deviation of the training data\n",
    "Xmean = X.mean(axis=0)\n",
    "Xstd = X.std(axis=0)\n",
    "ymean = y.mean(axis=0)\n",
    "ystd = y.std(axis=0)\n",
    "\n",
    "X_new = standardize_input(X, Xmean, Xstd)\n",
    "y_new = standardize_input(y, ymean, ystd)"
   ]
  },
  {
   "cell_type": "code",
   "execution_count": null,
   "id": "11d7a15c",
   "metadata": {},
   "outputs": [],
   "source": []
  }
 ],
 "metadata": {
  "kernelspec": {
   "display_name": "work",
   "language": "python",
   "name": "work"
  },
  "language_info": {
   "codemirror_mode": {
    "name": "ipython",
    "version": 3
   },
   "file_extension": ".py",
   "mimetype": "text/x-python",
   "name": "python",
   "nbconvert_exporter": "python",
   "pygments_lexer": "ipython3",
   "version": "3.9.7"
  }
 },
 "nbformat": 4,
 "nbformat_minor": 5
}
